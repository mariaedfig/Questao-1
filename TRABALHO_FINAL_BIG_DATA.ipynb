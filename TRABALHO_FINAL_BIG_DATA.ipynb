{
  "nbformat": 4,
  "nbformat_minor": 0,
  "metadata": {
    "colab": {
      "provenance": [],
      "authorship_tag": "ABX9TyMhikr0eD+M2ZjZzsBftRUz",
      "include_colab_link": true
    },
    "kernelspec": {
      "name": "python3",
      "display_name": "Python 3"
    },
    "language_info": {
      "name": "python"
    }
  },
  "cells": [
    {
      "cell_type": "markdown",
      "metadata": {
        "id": "view-in-github",
        "colab_type": "text"
      },
      "source": [
        "<a href=\"https://colab.research.google.com/github/mariaedfig/Questao-1/blob/main/TRABALHO_FINAL_BIG_DATA.ipynb\" target=\"_parent\"><img src=\"https://colab.research.google.com/assets/colab-badge.svg\" alt=\"Open In Colab\"/></a>"
      ]
    },
    {
      "cell_type": "markdown",
      "source": [
        "PARTE 1\n",
        "\n",
        "Letra A\n"
      ],
      "metadata": {
        "id": "ZtIcXJSunuhg"
      }
    },
    {
      "cell_type": "markdown",
      "source": [],
      "metadata": {
        "id": "y0DeE6wMTPle"
      }
    },
    {
      "cell_type": "code",
      "execution_count": null,
      "metadata": {
        "colab": {
          "base_uri": "https://localhost:8080/"
        },
        "id": "UlCzQMf0nNl7",
        "outputId": "44176219-fe27-4743-e4e0-b0dfd19ce41a"
      },
      "outputs": [
        {
          "output_type": "stream",
          "name": "stdout",
          "text": [
            "Types of drikns: Beer\n",
            "Types of drikns: Other\n",
            "Types of drikns: Spirits\n",
            "Types of drikns: Wine\n"
          ]
        }
      ],
      "source": [
        "import pandas as pd\n",
        "\n",
        "df = pd.read_csv('world_alcohol.csv')\n",
        "\n",
        "agrupar_bebidas = df.groupby('Beverage Types')\n",
        "\n",
        "for beverage, data in agrupar_bebidas:\n",
        "    print(f\"Types of drikns: {beverage}\")"
      ]
    },
    {
      "cell_type": "markdown",
      "source": [
        "Letra B\n"
      ],
      "metadata": {
        "id": "A5IYiz2on3PP"
      }
    },
    {
      "cell_type": "code",
      "source": [
        "import pandas as pd\n",
        "\n",
        "\n",
        "df = pd.read_csv('world_alcohol.csv')\n",
        "\n",
        "agrupar_regiao_ano = df.groupby(['WHO region', 'Year'])\n",
        "\n",
        "for (region, year), data in agrupar_regiao_ano:\n",
        "    print(f\"Region: {region}, year: {year}\")\n"
      ],
      "metadata": {
        "colab": {
          "base_uri": "https://localhost:8080/"
        },
        "id": "EnHl9Wskn1rV",
        "outputId": "b5a7b88e-dc86-49d8-e00a-35da75e07b85"
      },
      "execution_count": null,
      "outputs": [
        {
          "output_type": "stream",
          "name": "stdout",
          "text": [
            "Region: Africa, year: 1984\n",
            "Region: Africa, year: 1985\n",
            "Region: Africa, year: 1986\n",
            "Region: Africa, year: 1987\n",
            "Region: Africa, year: 1989\n",
            "Region: Americas, year: 1984\n",
            "Region: Americas, year: 1985\n",
            "Region: Americas, year: 1986\n",
            "Region: Americas, year: 1987\n",
            "Region: Americas, year: 1989\n",
            "Region: Eastern Mediterranean, year: 1984\n",
            "Region: Eastern Mediterranean, year: 1985\n",
            "Region: Eastern Mediterranean, year: 1986\n",
            "Region: Eastern Mediterranean, year: 1987\n",
            "Region: Eastern Mediterranean, year: 1989\n",
            "Region: Europe, year: 1984\n",
            "Region: Europe, year: 1985\n",
            "Region: Europe, year: 1986\n",
            "Region: Europe, year: 1987\n",
            "Region: Europe, year: 1989\n",
            "Region: South-East Asia, year: 1984\n",
            "Region: South-East Asia, year: 1985\n",
            "Region: South-East Asia, year: 1986\n",
            "Region: Western Pacific, year: 1984\n",
            "Region: Western Pacific, year: 1985\n",
            "Region: Western Pacific, year: 1986\n",
            "Region: Western Pacific, year: 1987\n"
          ]
        }
      ]
    },
    {
      "cell_type": "markdown",
      "source": [
        "Letra C\n"
      ],
      "metadata": {
        "id": "ECej0O9koGA2"
      }
    },
    {
      "cell_type": "code",
      "source": [
        "import pandas as pd\n",
        "\n",
        "df = pd.read_csv('world_alcohol.csv')\n",
        "\n",
        "conta_regiao = df['WHO region'].value_counts()\n",
        "\n",
        "conta_pais = df['Country'].value_counts()\n",
        "\n",
        "soma_das_bebidas = df.groupby('Beverage Types')['Display Value'].sum()\n",
        "\n",
        "print(\"Counting the regions:\")\n",
        "print(conta_regiao)\n",
        "print(\"\\nCounting of countries:\")\n",
        "print(conta_pais )\n",
        "print(\"\\nSum of the columm of values by drinks:\")\n",
        "print(soma_das_bebidas)\n"
      ],
      "metadata": {
        "colab": {
          "base_uri": "https://localhost:8080/"
        },
        "id": "U-2JBpAKoJhI",
        "outputId": "2013f9a1-28a9-4631-ae3f-9a3f133722d5"
      },
      "execution_count": null,
      "outputs": [
        {
          "output_type": "stream",
          "name": "stdout",
          "text": [
            "Counting the regions:\n",
            "Africa                   29\n",
            "Europe                   22\n",
            "Americas                 19\n",
            "Eastern Mediterranean    18\n",
            "Western Pacific           8\n",
            "South-East Asia           4\n",
            "Name: WHO region, dtype: int64\n",
            "\n",
            "Counting of countries:\n",
            "Viet Nam                                 4\n",
            "Ukraine                                  3\n",
            "Afghanistan                              2\n",
            "Suriname                                 2\n",
            "Somalia                                  2\n",
            "                                        ..\n",
            "Egypt                                    1\n",
            "Russian Federation                       1\n",
            "Micronesia (Federated States of)         1\n",
            "Sierra Leone                             1\n",
            "Democratic People's Republic of Korea    1\n",
            "Name: Country, Length: 80, dtype: int64\n",
            "\n",
            "Sum of the columm of values by drinks:\n",
            "Beverage Types\n",
            "Beer       35.50\n",
            "Other      14.93\n",
            "Spirits    30.97\n",
            "Wine       23.39\n",
            "Name: Display Value, dtype: float64\n"
          ]
        }
      ]
    },
    {
      "cell_type": "markdown",
      "source": [
        "Letra D"
      ],
      "metadata": {
        "id": "PboHBj1WoZC0"
      }
    },
    {
      "cell_type": "code",
      "source": [
        "import pandas as pd\n",
        "import matplotlib.pyplot as plt\n",
        "\n",
        "df = pd.read_csv('world_alcohol.csv')\n",
        "\n",
        "mean = df['Display Value'].mean()\n",
        "mode = df['Display Value'].mode().values[0]\n",
        "median = df['Display Value'].median()\n",
        "descriptive_statistics = df['Display Value'].describe()\n",
        "\n",
        "grouped_by_drinks = df.groupby('Beverage Types')['Display Value'].sum()\n",
        "grouped_by_drinks.plot(kind='bar')\n",
        "plt.xlabel('Type of drink')\n",
        "plt.ylabel('Sum of values')\n",
        "plt.title('Compariaon of values grouped by type of beverages')\n",
        "\n",
        "print(\"Statistical analysis of the values columm:\")\n",
        "print(f\"Mean: {mean}\")\n",
        "print(f\"Mode: {mode}\")\n",
        "print(f\"Median: {median}\")\n",
        "print(\"descriptive_statistics:\")\n",
        "print(descriptive_statistics)\n"
      ],
      "metadata": {
        "colab": {
          "base_uri": "https://localhost:8080/",
          "height": 744
        },
        "id": "VALb83Dqodk-",
        "outputId": "941f29c3-4f88-4067-d6ba-9e37558bcb79"
      },
      "execution_count": null,
      "outputs": [
        {
          "output_type": "stream",
          "name": "stdout",
          "text": [
            "Statistical analysis of the values columm:\n",
            "Mean: 1.1030526315789473\n",
            "Mode: 0.0\n",
            "Median: 0.19\n",
            "descriptive_statistics:\n",
            "count    95.000000\n",
            "mean      1.103053\n",
            "std       1.642623\n",
            "min       0.000000\n",
            "25%       0.000000\n",
            "50%       0.190000\n",
            "75%       1.820000\n",
            "max       7.380000\n",
            "Name: Display Value, dtype: float64\n"
          ]
        },
        {
          "output_type": "display_data",
          "data": {
            "text/plain": [
              "<Figure size 640x480 with 1 Axes>"
            ],
            "image/png": "[encoded data removed]"
          },
          "metadata": {}
        }
      ]
    },
    {
      "cell_type": "markdown",
      "source": [
        "Letra E"
      ],
      "metadata": {
        "id": "SFDUH7V-otuq"
      }
    },
    {
      "cell_type": "code",
      "source": [
        "import pandas as pd\n",
        "\n",
        "df = pd.read_csv('world_alcohol.csv')\n",
        "\n",
        "columm1 = df[df['Year'] == 1985]['Beverage Types']\n",
        "print(\"Drinks of the year 1985:\")\n",
        "print(columm1)\n",
        "print()\n",
        "\n",
        "columm2 = df[df['Display Value'] > 4]['WHO region']\n",
        "print(\"Regions with values above 4:\")\n",
        "print(columm2)"
      ],
      "metadata": {
        "colab": {
          "base_uri": "https://localhost:8080/"
        },
        "id": "CY6rRbCNovNJ",
        "outputId": "56623686-18cc-453d-ee7d-d6ec76b0c77b"
      },
      "execution_count": null,
      "outputs": [
        {
          "output_type": "stream",
          "name": "stdout",
          "text": [
            "Drinks of the year 1985:\n",
            "2        Wine\n",
            "7     Spirits\n",
            "12       Beer\n",
            "14    Spirits\n",
            "24      Other\n",
            "26       Wine\n",
            "33      Other\n",
            "35    Spirits\n",
            "44      Other\n",
            "50      Other\n",
            "63      Other\n",
            "71      Other\n",
            "76       Beer\n",
            "77    Spirits\n",
            "80      Other\n",
            "81       Wine\n",
            "85       Wine\n",
            "94    Spirits\n",
            "96       Wine\n",
            "99       Wine\n",
            "Name: Beverage Types, dtype: object\n",
            "\n",
            "Regions with values above 4:\n",
            "3     Americas\n",
            "9       Africa\n",
            "21    Americas\n",
            "30      Africa\n",
            "41      Europe\n",
            "57      Europe\n",
            "91      Europe\n",
            "96      Europe\n",
            "Name: WHO region, dtype: object\n"
          ]
        }
      ]
    },
    {
      "cell_type": "code",
      "source": [
        "import pandas as pd\n",
        "\n",
        "df = pd.read_csv('https://raw.githubusercontent.com/mariaedfig/Questao-1/main/cursos-prouni.csv')\n",
        "\n",
        "df['nota_integral_ampla'].fillna(0.0, inplace=True)\n",
        "df['nota_integral_cotas'].fillna(0.0, inplace=True)\n",
        "df['nota_parcial_ampla'].fillna(0.0, inplace=True)\n",
        "df['nota_parcial_cotas'].fillna(0.0, inplace=True)\n",
        "\n",
        "df.to_csv('cursos-prouni-limpo.csv', index=False)"
      ],
      "metadata": {
        "id": "NzYrHU8LpVij"
      },
      "execution_count": 9,
      "outputs": []
    },
    {
      "cell_type": "markdown",
      "source": [
        "PARTE 2\n",
        "\n",
        "Letra A"
      ],
      "metadata": {
        "id": "rQwEBL74Tl-4"
      }
    },
    {
      "cell_type": "code",
      "source": [
        "import pandas as pd\n",
        "\n",
        "df = pd.read_csv('https://raw.githubusercontent.com/mariaedfig/Questao-1/main/cursos-prouni.csv')\n",
        "\n",
        "\n",
        "df['nota_integral_ampla'].fillna(0.0, inplace=True)\n",
        "df['nota_integral_cotas'].fillna(0.0, inplace=True)\n",
        "df['nota_parcial_ampla'].fillna(0.0, inplace=True)\n",
        "df['nota_parcial_cotas'].fillna(0.0, inplace=True)\n",
        "\n",
        "print(df)"
      ],
      "metadata": {
        "colab": {
          "base_uri": "https://localhost:8080/"
        },
        "id": "ev45yu71Toy0",
        "outputId": "b784d9ae-01bf-42c9-b19a-1bcd29eb1891"
      },
      "execution_count": 6,
      "outputs": [
        {
          "output_type": "stream",
          "name": "stdout",
          "text": [
            "               grau              turno  mensalidade  bolsa_integral_cotas  \\\n",
            "0       Bacharelado           Integral      9999.99                  15.0   \n",
            "1       Bacharelado            Noturno      9836.40                   1.0   \n",
            "2       Bacharelado           Integral      9715.61                   2.0   \n",
            "3       Bacharelado            Noturno      9689.34                   3.0   \n",
            "4       Bacharelado           Integral      9674.34                   4.0   \n",
            "...             ...                ...          ...                   ...   \n",
            "41442  Licenciatura  Curso a Distância       149.00                   1.0   \n",
            "41443   Tecnológico  Curso a Distância       144.00                   1.0   \n",
            "41444   Tecnológico         Vespertino       139.00                   1.0   \n",
            "41445   Bacharelado  Curso a Distância       139.00                   1.0   \n",
            "41446   Tecnológico  Curso a Distância       139.00                   3.0   \n",
            "\n",
            "       bolsa_integral_ampla  bolsa_parcial_cotas  bolsa_parcial_ampla  \\\n",
            "0                      14.0                  NaN                  NaN   \n",
            "1                       NaN                  NaN                  NaN   \n",
            "2                       5.0                  6.0                 10.0   \n",
            "3                       2.0                  NaN                  NaN   \n",
            "4                       1.0                  5.0                  2.0   \n",
            "...                     ...                  ...                  ...   \n",
            "41442                   NaN                  NaN                  NaN   \n",
            "41443                   2.0                  2.0                  5.0   \n",
            "41444                   NaN                  NaN                  NaN   \n",
            "41445                   NaN                  NaN                  NaN   \n",
            "41446                   1.0                  NaN                  NaN   \n",
            "\n",
            "              curso_id                 curso_busca          cidade_busca  \\\n",
            "0         706710394154                    Medicina          Campo Grande   \n",
            "1      104191210567043                  Enfermagem               Crateus   \n",
            "2        1002328574024                    Medicina             Sao Paulo   \n",
            "3      104191212798093                  Psicologia               Crateus   \n",
            "4       65899611932754                    Medicina            Rio Branco   \n",
            "...                ...                         ...                   ...   \n",
            "41442     994312865605                  Sociologia  Paraiso do Tocantins   \n",
            "41443   65868712869275                   Marketing           Sao VIcente   \n",
            "41444    1056445674232  Gestão de Recursos Humanos              Brasilia   \n",
            "41445      96781210935              Serviço Social               Vitoria   \n",
            "41446  200467412868575            Gestão Ambiental              Santarem   \n",
            "\n",
            "      uf_busca     cidade_filtro  \\\n",
            "0           MS  NTAwMjAwNDAyNzA0   \n",
            "1           CE  MjMwNDAxODA0MTAz   \n",
            "2           SP  MzUxNTA2MTUwMzA4   \n",
            "3           CE  MjMwNDAxODA0MTAz   \n",
            "4           AC  MTIwMjAwNDAwNDAx   \n",
            "...        ...               ...   \n",
            "41442       TO  MTcwMTAwNDE2MTA5   \n",
            "41443       SP  MzUxNTA2MzUxMDA5   \n",
            "41444       DF  NTMwMTAwMTAwMTA4   \n",
            "41445       ES  MzIwMzAwOTA1MzA5   \n",
            "41446       PA  MTUwMTAwMjA2ODA3   \n",
            "\n",
            "                                       universidade_nome  \\\n",
            "0                      Universidade Anhanguera - UNIDERP   \n",
            "1                      Faculdade Princesa do Oeste - FPO   \n",
            "2              Universidade Cidade de São Paulo - UNICID   \n",
            "3                      Faculdade Princesa do Oeste - FPO   \n",
            "4                    Faculdade Barão do Rio Branco - FAB   \n",
            "...                                                  ...   \n",
            "41442                       Universidade Paulista - UNIP   \n",
            "41443                     Faculdade de São VIcente - FSV   \n",
            "41444  Centro Universitário Planalto do Distrito Fede...   \n",
            "41445                       Universidade Paulista - UNIP   \n",
            "41446                       Universidade Paulista - UNIP   \n",
            "\n",
            "                                             campus_nome  campus_id  \\\n",
            "0                     CAMPO GRANDE - SEDE - Miguel Couto     706710   \n",
            "1                             UNIDADE SEDE - São Vicente    1041912   \n",
            "2      UNIVERSIDADE CIDADE DE SÃO PAULO - UNICID - SE...    1002328   \n",
            "3                             UNIDADE SEDE - São Vicente    1041912   \n",
            "4      CAMPUS  - RIO BRANCO - JARDIM EUROPA II - Jard...     658996   \n",
            "...                                                  ...        ...   \n",
            "41442                      PARAISO DO TOCANTINS - Centro       9943   \n",
            "41443                              UNIDADE SEDE - Centro     658687   \n",
            "41444  DF03 - UNIDADE BRASIL CENTRAL - Taguatinga Nor...    1056445   \n",
            "41445                         VITORIA I - Barro Vermelho       9678   \n",
            "41446                                  SANTARÉM - Fátima    2004674   \n",
            "\n",
            "                             nome  nota_integral_ampla  nota_integral_cotas  \\\n",
            "0                        Medicina               740.22               726.46   \n",
            "1                      Enfermagem               663.36                 0.00   \n",
            "2                        Medicina               739.62               738.08   \n",
            "3                      Psicologia               651.00               652.22   \n",
            "4                        Medicina               758.32               723.94   \n",
            "...                           ...                  ...                  ...   \n",
            "41442                  Sociologia               502.36                 0.00   \n",
            "41443                   Marketing               533.34               450.00   \n",
            "41444  Gestão de Recursos Humanos               580.76                 0.00   \n",
            "41445              Serviço Social               548.26                 0.00   \n",
            "41446            Gestão Ambiental               605.32               573.70   \n",
            "\n",
            "       nota_parcial_ampla  nota_parcial_cotas  \n",
            "0                    0.00                0.00  \n",
            "1                    0.00                0.00  \n",
            "2                  738.96              718.64  \n",
            "3                    0.00                0.00  \n",
            "4                  734.92              711.26  \n",
            "...                   ...                 ...  \n",
            "41442                0.00                0.00  \n",
            "41443              450.00              450.00  \n",
            "41444                0.00                0.00  \n",
            "41445                0.00                0.00  \n",
            "41446                0.00                0.00  \n",
            "\n",
            "[41447 rows x 20 columns]\n"
          ]
        }
      ]
    },
    {
      "cell_type": "markdown",
      "source": [
        "Letra B"
      ],
      "metadata": {
        "id": "uSEVXJ9OUnxe"
      }
    },
    {
      "cell_type": "code",
      "source": [
        "import pandas as pd\n",
        "\n",
        "df = pd.read_csv('https://raw.githubusercontent.com/mariaedfig/Questao-1/main/cursos-prouni.csv')\n",
        "\n",
        "grau = df.groupby('grau')\n",
        "\n",
        "print(grau.size())"
      ],
      "metadata": {
        "colab": {
          "base_uri": "https://localhost:8080/"
        },
        "id": "fWn_SE70UpwQ",
        "outputId": "d7c2aaae-ccc3-4434-d6eb-cbf457e1ae30"
      },
      "execution_count": 62,
      "outputs": [
        {
          "output_type": "stream",
          "name": "stdout",
          "text": [
            "grau\n",
            "Bacharelado     19165\n",
            "Licenciatura     8802\n",
            "Tecnológico     13480\n",
            "dtype: int64\n"
          ]
        }
      ]
    },
    {
      "cell_type": "markdown",
      "source": [
        "Letra C"
      ],
      "metadata": {
        "id": "WbxGC6FwVB1J"
      }
    },
    {
      "cell_type": "code",
      "source": [
        "import pandas as pd\n",
        "\n",
        "df = pd.read_csv('https://raw.githubusercontent.com/mariaedfig/Questao-1/main/cursos-prouni.csv')\n",
        "\n",
        "cursos = ['Matemática', 'Medicina', 'Pedagogia']\n",
        "df_filtered = df[df['nome'].isin(cursos)]\n",
        "\n",
        "grupo = df_filtered.groupby('nome')\n",
        "\n",
        "print(grupo.size())\n"
      ],
      "metadata": {
        "colab": {
          "base_uri": "https://localhost:8080/"
        },
        "id": "ktguLTspVD8D",
        "outputId": "05fe929c-cb2f-491f-832e-c8699af19134"
      },
      "execution_count": 61,
      "outputs": [
        {
          "output_type": "stream",
          "name": "stdout",
          "text": [
            "nome\n",
            "Matemática     905\n",
            "Medicina       124\n",
            "Pedagogia     2555\n",
            "dtype: int64\n"
          ]
        }
      ]
    },
    {
      "cell_type": "markdown",
      "source": [
        "Letra D"
      ],
      "metadata": {
        "id": "uuJL4D6LVMul"
      }
    },
    {
      "cell_type": "code",
      "source": [
        "import pandas as pd\n",
        "\n",
        "df = pd.read_csv('https://raw.githubusercontent.com/mariaedfig/Questao-1/main/cursos-prouni.csv')\n",
        "\n",
        "estados_notas = df.groupby('uf_busca')['nota_integral_ampla'].mean()\n",
        "\n",
        "print(estados_notas)\n"
      ],
      "metadata": {
        "colab": {
          "base_uri": "https://localhost:8080/"
        },
        "id": "nd0ZcIe1VOCa",
        "outputId": "cc84e66a-5e5a-4af9-dc84-21d3a8412000"
      },
      "execution_count": 69,
      "outputs": [
        {
          "output_type": "stream",
          "name": "stdout",
          "text": [
            "uf_busca\n",
            "AC    592.320255\n",
            "AL    598.094599\n",
            "AM    580.413199\n",
            "AP    583.807126\n",
            "BA    588.942140\n",
            "CE    630.480894\n",
            "DF    586.136432\n",
            "ES    605.744498\n",
            "GO    573.088620\n",
            "MA    608.524744\n",
            "MG    592.559059\n",
            "MS    554.571593\n",
            "MT    540.597958\n",
            "PA    588.270892\n",
            "PB    604.280388\n",
            "PE    598.066841\n",
            "PI    605.636839\n",
            "PR    562.998106\n",
            "RJ    605.651400\n",
            "RN    607.561447\n",
            "RO    577.266182\n",
            "RR    558.540842\n",
            "RS    567.415515\n",
            "SC    542.574038\n",
            "SE    600.468716\n",
            "SP    562.488484\n",
            "TO    579.278425\n",
            "Name: nota_integral_ampla, dtype: float64\n"
          ]
        }
      ]
    },
    {
      "cell_type": "markdown",
      "source": [
        "Letra E"
      ],
      "metadata": {
        "id": "X0JYHwWtVZ9b"
      }
    },
    {
      "cell_type": "code",
      "source": [
        "import pandas as pd\n",
        "\n",
        "df = pd.read_csv('https://raw.githubusercontent.com/mariaedfig/Questao-1/main/cursos-prouni.csv')\n",
        "\n",
        "data = df[df['grau'].str.contains('Tecnológico', case=False)]\n",
        "\n",
        "cursos = data.groupby('nome')\n",
        "\n",
        "print(cursos.size())\n"
      ],
      "metadata": {
        "colab": {
          "base_uri": "https://localhost:8080/"
        },
        "id": "laxA0YsCVbLU",
        "outputId": "36a3506a-3fad-4b46-8ae6-ea3356e14b68"
      },
      "execution_count": 63,
      "outputs": [
        {
          "output_type": "stream",
          "name": "stdout",
          "text": [
            "nome\n",
            "Agroindústria                               1\n",
            "Agronegócio                               143\n",
            "Agropecuária                                1\n",
            "Alimentos                                   4\n",
            "Análise e Desenvolvimento de Sistemas    1008\n",
            "                                         ... \n",
            "Tecnólogo em Metalurgia                     2\n",
            "Turismo Receptivo                           6\n",
            "Visagismo e Terapias Capilares              2\n",
            "Viticultura e Enologia                      2\n",
            "Óptica e Optometria                         2\n",
            "Length: 125, dtype: int64\n"
          ]
        }
      ]
    },
    {
      "cell_type": "markdown",
      "source": [
        "Letra F"
      ],
      "metadata": {
        "id": "GobyngdNVicR"
      }
    },
    {
      "cell_type": "code",
      "source": [
        "import pandas as pd\n",
        "\n",
        "df = pd.read_csv('https://raw.githubusercontent.com/mariaedfig/Questao-1/main/cursos-prouni.csv')\n",
        "df = df.drop(\"cidade_filtro\", axis=1)\n",
        "\n",
        "print(df.head())\n"
      ],
      "metadata": {
        "colab": {
          "base_uri": "https://localhost:8080/"
        },
        "id": "gzIPDdnKVjv7",
        "outputId": "4be8c0ae-3a00-4d63-b8ae-84daae568316"
      },
      "execution_count": 64,
      "outputs": [
        {
          "output_type": "stream",
          "name": "stdout",
          "text": [
            "          grau     turno  mensalidade  bolsa_integral_cotas  \\\n",
            "0  Bacharelado  Integral      9999.99                  15.0   \n",
            "1  Bacharelado   Noturno      9836.40                   1.0   \n",
            "2  Bacharelado  Integral      9715.61                   2.0   \n",
            "3  Bacharelado   Noturno      9689.34                   3.0   \n",
            "4  Bacharelado  Integral      9674.34                   4.0   \n",
            "\n",
            "   bolsa_integral_ampla  bolsa_parcial_cotas  bolsa_parcial_ampla  \\\n",
            "0                  14.0                  NaN                  NaN   \n",
            "1                   NaN                  NaN                  NaN   \n",
            "2                   5.0                  6.0                 10.0   \n",
            "3                   2.0                  NaN                  NaN   \n",
            "4                   1.0                  5.0                  2.0   \n",
            "\n",
            "          curso_id curso_busca  cidade_busca uf_busca  \\\n",
            "0     706710394154    Medicina  Campo Grande       MS   \n",
            "1  104191210567043  Enfermagem       Crateus       CE   \n",
            "2    1002328574024    Medicina     Sao Paulo       SP   \n",
            "3  104191212798093  Psicologia       Crateus       CE   \n",
            "4   65899611932754    Medicina    Rio Branco       AC   \n",
            "\n",
            "                           universidade_nome  \\\n",
            "0          Universidade Anhanguera - UNIDERP   \n",
            "1          Faculdade Princesa do Oeste - FPO   \n",
            "2  Universidade Cidade de São Paulo - UNICID   \n",
            "3          Faculdade Princesa do Oeste - FPO   \n",
            "4        Faculdade Barão do Rio Branco - FAB   \n",
            "\n",
            "                                         campus_nome  campus_id        nome  \\\n",
            "0                 CAMPO GRANDE - SEDE - Miguel Couto     706710    Medicina   \n",
            "1                         UNIDADE SEDE - São Vicente    1041912  Enfermagem   \n",
            "2  UNIVERSIDADE CIDADE DE SÃO PAULO - UNICID - SE...    1002328    Medicina   \n",
            "3                         UNIDADE SEDE - São Vicente    1041912  Psicologia   \n",
            "4  CAMPUS  - RIO BRANCO - JARDIM EUROPA II - Jard...     658996    Medicina   \n",
            "\n",
            "   nota_integral_ampla  nota_integral_cotas  nota_parcial_ampla  \\\n",
            "0               740.22               726.46                 NaN   \n",
            "1               663.36                  NaN                 NaN   \n",
            "2               739.62               738.08              738.96   \n",
            "3               651.00               652.22                 NaN   \n",
            "4               758.32               723.94              734.92   \n",
            "\n",
            "   nota_parcial_cotas  \n",
            "0                 NaN  \n",
            "1                 NaN  \n",
            "2              718.64  \n",
            "3                 NaN  \n",
            "4              711.26  \n"
          ]
        }
      ]
    },
    {
      "cell_type": "markdown",
      "source": [
        "Letra G"
      ],
      "metadata": {
        "id": "mBN63v3DVqS9"
      }
    },
    {
      "cell_type": "code",
      "source": [
        "import pandas as pd\n",
        "\n",
        "df = pd.read_csv('https://raw.githubusercontent.com/mariaedfig/Questao-1/main/cursos-prouni.csv')\n",
        "\n",
        "curso_medicina = df[df['nome'].str.contains('Medicina', case=False)]\n",
        "\n",
        "mensalidade = curso_medicina['mensalidade'].mean()\n",
        "\n",
        "print(\"A média das mensalidades de medicina é:\", mensalidade)\n"
      ],
      "metadata": {
        "colab": {
          "base_uri": "https://localhost:8080/"
        },
        "id": "X9OsNrbWVsEb",
        "outputId": "4a8f607c-1a3c-43f9-a59a-3019910254c0"
      },
      "execution_count": 66,
      "outputs": [
        {
          "output_type": "stream",
          "name": "stdout",
          "text": [
            "A média das mensalidades de medicina é: 2391.160634920635\n"
          ]
        }
      ]
    },
    {
      "cell_type": "markdown",
      "source": [
        "Letra H"
      ],
      "metadata": {
        "id": "MSrdKRZYdxMD"
      }
    },
    {
      "cell_type": "code",
      "source": [
        "import pandas as pd\n",
        "\n",
        "df = pd.read_csv('https://raw.githubusercontent.com/mariaedfig/Questao-1/main/cursos-prouni.csv')\n",
        "\n",
        "turno = df.groupby('turno')\n",
        "media_curso_tempo_integral = turno.get_group('Integral')['nota_integral_ampla'].mean()\n",
        "\n",
        "print(media_curso_tempo_integral )\n"
      ],
      "metadata": {
        "colab": {
          "base_uri": "https://localhost:8080/"
        },
        "id": "-eWDASzFd01b",
        "outputId": "b0176a4b-8199-4fe8-bc3a-b765c406160c"
      },
      "execution_count": 54,
      "outputs": [
        {
          "output_type": "stream",
          "name": "stdout",
          "text": [
            "663.1000342465754\n"
          ]
        }
      ]
    },
    {
      "cell_type": "markdown",
      "source": [
        "Letra I"
      ],
      "metadata": {
        "id": "KAPuLcbUd5Hh"
      }
    },
    {
      "cell_type": "code",
      "source": [
        "import pandas as pd\n",
        "\n",
        "df = pd.read_csv ('https://raw.githubusercontent.com/mariaedfig/Questao-1/main/cursos-prouni.csv')\n",
        "\n",
        "grupo = df.groupby('grau')\n",
        "nota_integral = grupo.get_group('Bacharelado')['nota_integral_ampla'].describe()\n",
        "\n",
        "print(nota_integral)\n"
      ],
      "metadata": {
        "colab": {
          "base_uri": "https://localhost:8080/"
        },
        "id": "GSCf_kdtd-nY",
        "outputId": "6a919f3a-94a9-42c9-dcd4-dfc4fde59505"
      },
      "execution_count": 59,
      "outputs": [
        {
          "output_type": "stream",
          "name": "stdout",
          "text": [
            "count    15911.000000\n",
            "mean       603.084487\n",
            "std         49.863617\n",
            "min        450.000000\n",
            "25%        575.440000\n",
            "50%        605.480000\n",
            "75%        633.900000\n",
            "max        781.200000\n",
            "Name: nota_integral_ampla, dtype: float64\n"
          ]
        }
      ]
    },
    {
      "cell_type": "markdown",
      "source": [
        "Letra J"
      ],
      "metadata": {
        "id": "7nj9GV1CeFhd"
      }
    },
    {
      "cell_type": "code",
      "source": [
        "import pandas as pd\n",
        "import matplotlib.pyplot as plt\n",
        "\n",
        "df = pd.read_csv('https://raw.githubusercontent.com/mariaedfig/Questao-1/main/cursos-prouni.csv')\n",
        "\n",
        "df.groupby('grau')['nota_integral_cotas'].mean().plot(kind='bar')\n",
        "plt.xlabel('Cursos')\n",
        "plt.ylabel('Notas')\n",
        "\n",
        "plt.show()"
      ],
      "metadata": {
        "colab": {
          "base_uri": "https://localhost:8080/",
          "height": 523
        },
        "id": "g5rfrUK0eGr3",
        "outputId": "240cd638-63d5-42ef-a2c6-84d5375b0e59"
      },
      "execution_count": 65,
      "outputs": [
        {
          "output_type": "display_data",
          "data": {
            "text/plain": [
              "<Figure size 640x480 with 1 Axes>"
            ],
            "image/png": "[encoded data removed]"
          },
          "metadata": {}
        }
      ]
    }
  ]
}