{
  "nbformat": 4,
  "nbformat_minor": 0,
  "metadata": {
    "colab": {
      "provenance": [],
      "authorship_tag": "ABX9TyO+xZ8Yp/+6EYBc30c24g5l",
      "include_colab_link": true
    },
    "kernelspec": {
      "name": "python3",
      "display_name": "Python 3"
    },
    "language_info": {
      "name": "python"
    }
  },
  "cells": [
    {
      "cell_type": "markdown",
      "metadata": {
        "id": "view-in-github",
        "colab_type": "text"
      },
      "source": [
        "<a href=\"https://colab.research.google.com/github/mariaedfig/Questao-1/blob/main/TRABALHO_FINAL_BIG_DATA.ipynb\" target=\"_parent\"><img src=\"https://colab.research.google.com/assets/colab-badge.svg\" alt=\"Open In Colab\"/></a>"
      ]
    },
    {
      "cell_type": "markdown",
      "source": [
        "LETRA A\n"
      ],
      "metadata": {
        "id": "ZtIcXJSunuhg"
      }
    },
    {
      "cell_type": "code",
      "execution_count": 14,
      "metadata": {
        "colab": {
          "base_uri": "https://localhost:8080/"
        },
        "id": "UlCzQMf0nNl7",
        "outputId": "44176219-fe27-4743-e4e0-b0dfd19ce41a"
      },
      "outputs": [
        {
          "output_type": "stream",
          "name": "stdout",
          "text": [
            "Types of drikns: Beer\n",
            "Types of drikns: Other\n",
            "Types of drikns: Spirits\n",
            "Types of drikns: Wine\n"
          ]
        }
      ],
      "source": [
        "import pandas as pd\n",
        "\n",
        "df = pd.read_csv('world_alcohol.csv')\n",
        "\n",
        "agrupar_bebidas = df.groupby('Beverage Types')\n",
        "\n",
        "for beverage, data in agrupar_bebidas:\n",
        "    print(f\"Types of drikns: {beverage}\")"
      ]
    },
    {
      "cell_type": "markdown",
      "source": [
        "LETRA B\n"
      ],
      "metadata": {
        "id": "A5IYiz2on3PP"
      }
    },
    {
      "cell_type": "code",
      "source": [
        "import pandas as pd\n",
        "\n",
        "\n",
        "df = pd.read_csv('world_alcohol.csv')\n",
        "\n",
        "agrupar_regiao_ano = df.groupby(['WHO region', 'Year'])\n",
        "\n",
        "for (region, year), data in agrupar_regiao_ano:\n",
        "    print(f\"Region: {region}, year: {year}\")\n"
      ],
      "metadata": {
        "colab": {
          "base_uri": "https://localhost:8080/"
        },
        "id": "EnHl9Wskn1rV",
        "outputId": "b5a7b88e-dc86-49d8-e00a-35da75e07b85"
      },
      "execution_count": 15,
      "outputs": [
        {
          "output_type": "stream",
          "name": "stdout",
          "text": [
            "Region: Africa, year: 1984\n",
            "Region: Africa, year: 1985\n",
            "Region: Africa, year: 1986\n",
            "Region: Africa, year: 1987\n",
            "Region: Africa, year: 1989\n",
            "Region: Americas, year: 1984\n",
            "Region: Americas, year: 1985\n",
            "Region: Americas, year: 1986\n",
            "Region: Americas, year: 1987\n",
            "Region: Americas, year: 1989\n",
            "Region: Eastern Mediterranean, year: 1984\n",
            "Region: Eastern Mediterranean, year: 1985\n",
            "Region: Eastern Mediterranean, year: 1986\n",
            "Region: Eastern Mediterranean, year: 1987\n",
            "Region: Eastern Mediterranean, year: 1989\n",
            "Region: Europe, year: 1984\n",
            "Region: Europe, year: 1985\n",
            "Region: Europe, year: 1986\n",
            "Region: Europe, year: 1987\n",
            "Region: Europe, year: 1989\n",
            "Region: South-East Asia, year: 1984\n",
            "Region: South-East Asia, year: 1985\n",
            "Region: South-East Asia, year: 1986\n",
            "Region: Western Pacific, year: 1984\n",
            "Region: Western Pacific, year: 1985\n",
            "Region: Western Pacific, year: 1986\n",
            "Region: Western Pacific, year: 1987\n"
          ]
        }
      ]
    },
    {
      "cell_type": "markdown",
      "source": [
        "LETRA C\n"
      ],
      "metadata": {
        "id": "ECej0O9koGA2"
      }
    },
    {
      "cell_type": "code",
      "source": [
        "import pandas as pd\n",
        "\n",
        "df = pd.read_csv('world_alcohol.csv')\n",
        "\n",
        "conta_regiao = df['WHO region'].value_counts()\n",
        "\n",
        "conta_pais = df['Country'].value_counts()\n",
        "\n",
        "soma_das_bebidas = df.groupby('Beverage Types')['Display Value'].sum()\n",
        "\n",
        "print(\"Counting the regions:\")\n",
        "print(conta_regiao)\n",
        "print(\"\\nCounting of countries:\")\n",
        "print(conta_pais )\n",
        "print(\"\\nSum of the columm of values by drinks:\")\n",
        "print(soma_das_bebidas)\n"
      ],
      "metadata": {
        "colab": {
          "base_uri": "https://localhost:8080/"
        },
        "id": "U-2JBpAKoJhI",
        "outputId": "2013f9a1-28a9-4631-ae3f-9a3f133722d5"
      },
      "execution_count": 20,
      "outputs": [
        {
          "output_type": "stream",
          "name": "stdout",
          "text": [
            "Counting the regions:\n",
            "Africa                   29\n",
            "Europe                   22\n",
            "Americas                 19\n",
            "Eastern Mediterranean    18\n",
            "Western Pacific           8\n",
            "South-East Asia           4\n",
            "Name: WHO region, dtype: int64\n",
            "\n",
            "Counting of countries:\n",
            "Viet Nam                                 4\n",
            "Ukraine                                  3\n",
            "Afghanistan                              2\n",
            "Suriname                                 2\n",
            "Somalia                                  2\n",
            "                                        ..\n",
            "Egypt                                    1\n",
            "Russian Federation                       1\n",
            "Micronesia (Federated States of)         1\n",
            "Sierra Leone                             1\n",
            "Democratic People's Republic of Korea    1\n",
            "Name: Country, Length: 80, dtype: int64\n",
            "\n",
            "Sum of the columm of values by drinks:\n",
            "Beverage Types\n",
            "Beer       35.50\n",
            "Other      14.93\n",
            "Spirits    30.97\n",
            "Wine       23.39\n",
            "Name: Display Value, dtype: float64\n"
          ]
        }
      ]
    },
    {
      "cell_type": "markdown",
      "source": [
        "LETRA D"
      ],
      "metadata": {
        "id": "PboHBj1WoZC0"
      }
    },
    {
      "cell_type": "code",
      "source": [
        "import pandas as pd\n",
        "import matplotlib.pyplot as plt\n",
        "\n",
        "df = pd.read_csv('world_alcohol.csv')\n",
        "\n",
        "mean = df['Display Value'].mean()\n",
        "mode = df['Display Value'].mode().values[0]\n",
        "median = df['Display Value'].median()\n",
        "descriptive_statistics = df['Display Value'].describe()\n",
        "\n",
        "grouped_by_drinks = df.groupby('Beverage Types')['Display Value'].sum()\n",
        "grouped_by_drinks.plot(kind='bar')\n",
        "plt.xlabel('Type of drink')\n",
        "plt.ylabel('Sum of values')\n",
        "plt.title('Compariaon of values grouped by type of beverages')\n",
        "\n",
        "print(\"Statistical analysis of the values columm:\")\n",
        "print(f\"Mean: {mean}\")\n",
        "print(f\"Mode: {mode}\")\n",
        "print(f\"Median: {median}\")\n",
        "print(\"descriptive_statistics:\")\n",
        "print(descriptive_statistics)\n"
      ],
      "metadata": {
        "colab": {
          "base_uri": "https://localhost:8080/",
          "height": 744
        },
        "id": "VALb83Dqodk-",
        "outputId": "941f29c3-4f88-4067-d6ba-9e37558bcb79"
      },
      "execution_count": 24,
      "outputs": [
        {
          "output_type": "stream",
          "name": "stdout",
          "text": [
            "Statistical analysis of the values columm:\n",
            "Mean: 1.1030526315789473\n",
            "Mode: 0.0\n",
            "Median: 0.19\n",
            "descriptive_statistics:\n",
            "count    95.000000\n",
            "mean      1.103053\n",
            "std       1.642623\n",
            "min       0.000000\n",
            "25%       0.000000\n",
            "50%       0.190000\n",
            "75%       1.820000\n",
            "max       7.380000\n",
            "Name: Display Value, dtype: float64\n"
          ]
        },
        {
          "output_type": "display_data",
          "data": {
            "text/plain": [
              "<Figure size 640x480 with 1 Axes>"
            ],
            "image/png": "[encoded data removed]"
          },
          "metadata": {}
        }
      ]
    },
    {
      "cell_type": "markdown",
      "source": [
        "LETRA E"
      ],
      "metadata": {
        "id": "SFDUH7V-otuq"
      }
    },
    {
      "cell_type": "code",
      "source": [
        "import pandas as pd\n",
        "\n",
        "df = pd.read_csv('world_alcohol.csv')\n",
        "\n",
        "columm1 = df[df['Year'] == 1985]['Beverage Types']\n",
        "print(\"Drinks of the year 1985:\")\n",
        "print(columm1)\n",
        "print()\n",
        "\n",
        "columm2 = df[df['Display Value'] > 4]['WHO region']\n",
        "print(\"Regions with values above 4:\")\n",
        "print(columm2)"
      ],
      "metadata": {
        "colab": {
          "base_uri": "https://localhost:8080/"
        },
        "id": "CY6rRbCNovNJ",
        "outputId": "56623686-18cc-453d-ee7d-d6ec76b0c77b"
      },
      "execution_count": 25,
      "outputs": [
        {
          "output_type": "stream",
          "name": "stdout",
          "text": [
            "Drinks of the year 1985:\n",
            "2        Wine\n",
            "7     Spirits\n",
            "12       Beer\n",
            "14    Spirits\n",
            "24      Other\n",
            "26       Wine\n",
            "33      Other\n",
            "35    Spirits\n",
            "44      Other\n",
            "50      Other\n",
            "63      Other\n",
            "71      Other\n",
            "76       Beer\n",
            "77    Spirits\n",
            "80      Other\n",
            "81       Wine\n",
            "85       Wine\n",
            "94    Spirits\n",
            "96       Wine\n",
            "99       Wine\n",
            "Name: Beverage Types, dtype: object\n",
            "\n",
            "Regions with values above 4:\n",
            "3     Americas\n",
            "9       Africa\n",
            "21    Americas\n",
            "30      Africa\n",
            "41      Europe\n",
            "57      Europe\n",
            "91      Europe\n",
            "96      Europe\n",
            "Name: WHO region, dtype: object\n"
          ]
        }
      ]
    },
    {
      "cell_type": "code",
      "source": [
        "import pandas as pd\n",
        "\n",
        "df = pd.read_csv('cursos-prouni.csv')\n",
        "\n",
        "df['nota_integral_ampla'].fillna(0.0, inplace=True)\n",
        "df['nota_integral_cotas'].fillna(0.0, inplace=True)\n",
        "df['nota_parcial_ampla'].fillna(0.0, inplace=True)\n",
        "df['nota_parcial_cotas'].fillna(0.0, inplace=True)\n",
        "\n",
        "df.to_csv('cursos-prouni-limpo.csv', index=False)"
      ],
      "metadata": {
        "id": "NzYrHU8LpVij"
      },
      "execution_count": 26,
      "outputs": []
    }
  ]
}